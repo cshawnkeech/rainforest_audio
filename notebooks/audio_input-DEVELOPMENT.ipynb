{
 "cells": [
  {
   "cell_type": "code",
   "execution_count": 9,
   "metadata": {},
   "outputs": [],
   "source": [
    "import os\n",
    "\n",
    "import librosa\n",
    "\n",
    "# for displaying playback\n",
    "import IPython.display as ipd\n",
    "\n",
    "import tensorflow as tf\n",
    "from tensorflow import keras\n",
    "\n",
    "import tensorflow_io as tfio\n",
    "\n",
    "# System filepath setup\n",
    "import sys\n",
    "\n",
    "# add data folders to path\n",
    "sys.path.insert(1, '../data')\n",
    "sys.path.insert(1, '../src')\n",
    "sys.path.insert(1, '../img')"
   ]
  },
  {
   "cell_type": "code",
   "execution_count": 10,
   "metadata": {},
   "outputs": [],
   "source": [
    "! cd .."
   ]
  },
  {
   "cell_type": "code",
   "execution_count": 11,
   "metadata": {},
   "outputs": [
    {
     "name": "stdout",
     "output_type": "stream",
     "text": [
      "LICENSE    README.md  \u001b[1m\u001b[36mdata\u001b[m\u001b[m/      \u001b[1m\u001b[36mimg\u001b[m\u001b[m/       \u001b[1m\u001b[36mnotebooks\u001b[m\u001b[m/ \u001b[1m\u001b[36msrc\u001b[m\u001b[m/\n"
     ]
    }
   ],
   "source": [
    "ls"
   ]
  },
  {
   "cell_type": "code",
   "execution_count": 12,
   "metadata": {},
   "outputs": [
    {
     "name": "stdout",
     "output_type": "stream",
     "text": [
      "The autoreload extension is already loaded. To reload it, use:\n",
      "  %reload_ext autoreload\n"
     ]
    }
   ],
   "source": [
    "import pyaudio \n",
    "import struct\n",
    "import numpy as np\n",
    "\n",
    "import matplotlib.pyplot as plt\n",
    "\n",
    "%matplotlib tk\n",
    "\n",
    "\n",
    "import src.audio_functions as afun\n",
    "import src.audio_prep as aprep\n",
    "\n",
    "%load_ext autoreload\n",
    "\n",
    "%autoreload 2"
   ]
  },
  {
   "cell_type": "code",
   "execution_count": null,
   "metadata": {},
   "outputs": [],
   "source": [
    "# From tutorial:\n",
    "\n",
    "'''\n",
    "https://www.youtube.com/watch?v=AShHJdSIxkY\n",
    "'''\n",
    "\n",
    "\n",
    "import pyaudio\n",
    "p = pyaudio.PyAudio()\n",
    "info = p.get_host_api_info_by_index(0)\n",
    "numdevices = info.get('deviceCount')\n",
    "for i in range(0, numdevices):\n",
    "        if (p.get_device_info_by_host_api_device_index(0, i).get('maxInputChannels')) > 0:\n",
    "            print(\"Input Device id \", i, \" - \", p.get_device_info_by_host_api_device_index(0, i).get('name'))\n",
    "\n",
    "\n",
    "afun.stream_seconds(how_long=1)\n"
   ]
  },
  {
   "cell_type": "code",
   "execution_count": null,
   "metadata": {},
   "outputs": [],
   "source": [
    "devinfo = p.get_device_info_by_index(4)  # Or whatever device you care about.\n",
    "if p.is_format_supported(48000,  # Sample rate\n",
    "                         input_device=devinfo['index'],\n",
    "                         input_channels=devinfo['maxInputChannels'],\n",
    "                         input_format=pyaudio.paInt16):\n",
    "    print(devinfo['maxInputChannels'])\n",
    "    print('Yay!')"
   ]
  },
  {
   "cell_type": "code",
   "execution_count": null,
   "metadata": {},
   "outputs": [],
   "source": [
    "ls"
   ]
  },
  {
   "cell_type": "code",
   "execution_count": null,
   "metadata": {},
   "outputs": [],
   "source": [
    "mel_model = tf.keras.models.load_model('data/saved_models/mel_1_sec_model_(95acc)/mel_1_sec_model')\n",
    "\n",
    "# Confirm by checking the archetecture...\n",
    "mel_model.summary()"
   ]
  },
  {
   "cell_type": "code",
   "execution_count": null,
   "metadata": {},
   "outputs": [],
   "source": [
    "afun.record_short(1)"
   ]
  },
  {
   "cell_type": "code",
   "execution_count": null,
   "metadata": {},
   "outputs": [],
   "source": [
    "librosa_test, sr = librosa.load('file.wav',\n",
    "                                sr=22050)"
   ]
  },
  {
   "cell_type": "code",
   "execution_count": null,
   "metadata": {},
   "outputs": [],
   "source": [
    "ipd.Audio(librosa_test, \n",
    "          rate=sr)"
   ]
  },
  {
   "cell_type": "code",
   "execution_count": null,
   "metadata": {},
   "outputs": [],
   "source": []
  },
  {
   "cell_type": "code",
   "execution_count": null,
   "metadata": {},
   "outputs": [],
   "source": [
    "import src.audio_functions as a_fun"
   ]
  },
  {
   "cell_type": "code",
   "execution_count": null,
   "metadata": {},
   "outputs": [],
   "source": [
    "a_fun.record_short()"
   ]
  },
  {
   "cell_type": "code",
   "execution_count": null,
   "metadata": {},
   "outputs": [],
   "source": []
  },
  {
   "cell_type": "markdown",
   "metadata": {},
   "source": [
    "# Resources:\n",
    "\n",
    "PyAudio\n",
    "-[Insatlling PyAudio on Python 3.7](https://stackoverflow.com/questions/54998028/how-do-i-install-pyaudio-on-python-3-7)\n",
    "- [Select Specific Input Device with PyAudio](https://stackoverflow.com/questions/36894315/how-to-select-a-specific-input-device-with-pyaudio)  \n",
    "\n",
    "\n",
    "- [Let's Build an Audio Spectrum Analyzer in Python (pt1)](https://www.youtube.com/watch?v=AShHJdSIxkY)  \n",
    "\n",
    "Librosa\n",
    "- [Librosa with Microphone Input](https://stackoverflow.com/questions/59056786/python-librosa-with-microphone-input)  \n",
    "- [Librosa Documentation](https://librosa.org/doc/latest/core.html#signal-generation)\n",
    "\n",
    "\n",
    "Tensorflow\n",
    "- [Tensorflow Audio Data Prep and Augmentation](https://www.tensorflow.org/io/tutorials/audio#read_an_audio_file)  \n",
    "- [Save and load models](https://www.tensorflow.org/tutorials/keras/save_and_load) \n",
    "\n",
    "- [Paper: Speech Recognition](https://arxiv.org/pdf/1904.08779.pdf)\n",
    "\n",
    "\n",
    "\n"
   ]
  }
 ],
 "metadata": {
  "kernelspec": {
   "display_name": "Python 3",
   "language": "python",
   "name": "python3"
  },
  "language_info": {
   "codemirror_mode": {
    "name": "ipython",
    "version": 3
   },
   "file_extension": ".py",
   "mimetype": "text/x-python",
   "name": "python",
   "nbconvert_exporter": "python",
   "pygments_lexer": "ipython3",
   "version": "3.7.6"
  }
 },
 "nbformat": 4,
 "nbformat_minor": 4
}
