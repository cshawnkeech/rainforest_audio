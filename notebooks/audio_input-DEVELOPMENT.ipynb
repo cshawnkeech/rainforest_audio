{
 "cells": [
  {
   "cell_type": "code",
   "execution_count": 19,
   "metadata": {},
   "outputs": [],
   "source": [
    "import os\n",
    "\n",
    "import librosa\n",
    "\n",
    "# for displaying playback\n",
    "import IPython.display as ipd\n",
    "\n",
    "import tensorflow as tf\n",
    "from tensorflow import keras\n",
    "\n",
    "import tensorflow_io as tfio\n",
    "\n",
    "%load_ext autoreload\n",
    "\n",
    "%autoreload 2"
   ]
  },
  {
   "cell_type": "code",
   "execution_count": 20,
   "metadata": {},
   "outputs": [],
   "source": [
    "# System filepath setup\n",
    "import sys\n",
    "\n",
    "# add data folders to path\n",
    "sys.path.insert(1, '../data')\n",
    "sys.path.insert(1, '../src')\n",
    "sys.path.insert(1, '../img')"
   ]
  },
  {
   "cell_type": "code",
   "execution_count": 21,
   "metadata": {},
   "outputs": [
    {
     "name": "stdout",
     "output_type": "stream",
     "text": [
      "/Users/christopherkeech/coding_projects/dsi_remote_pt/capstones\n"
     ]
    }
   ],
   "source": [
    "cd .."
   ]
  },
  {
   "cell_type": "code",
   "execution_count": 22,
   "metadata": {},
   "outputs": [],
   "source": [
    "import src.audio_functions as afun\n",
    "import src.audio_prep as aprep"
   ]
  },
  {
   "cell_type": "code",
   "execution_count": 23,
   "metadata": {},
   "outputs": [
    {
     "name": "stdout",
     "output_type": "stream",
     "text": [
      "Input Device id  0  -  Built-in Microphone\n",
      "Input Device id  4  -  USB PnP Audio Device\n",
      "Input Device id  5  -  Iriun Webcam Audio\n",
      "Input Device id  6  -  iShowU Audio Capture\n",
      "Input Device id  7  -  ZoomAudioDevice\n"
     ]
    }
   ],
   "source": [
    "# From tutorial:\n",
    "\n",
    "'''\n",
    "https://www.youtube.com/watch?v=AShHJdSIxkY\n",
    "'''\n",
    "\n",
    "import pyaudio \n",
    "import struct\n",
    "import numpy as np\n",
    "\n",
    "import matplotlib.pyplot as plt\n",
    "\n",
    "%matplotlib tk\n",
    "\n",
    "import pyaudio\n",
    "p = pyaudio.PyAudio()\n",
    "info = p.get_host_api_info_by_index(0)\n",
    "numdevices = info.get('deviceCount')\n",
    "for i in range(0, numdevices):\n",
    "        if (p.get_device_info_by_host_api_device_index(0, i).get('maxInputChannels')) > 0:\n",
    "            print(\"Input Device id \", i, \" - \", p.get_device_info_by_host_api_device_index(0, i).get('name'))\n",
    "\n",
    "\n",
    "# device index found by p.get_device_info_by_index(ii)\n",
    "dev_index = 0 # should be built in mic\n",
    "CHUNK = 1024 * 4\n",
    "FORMAT = pyaudio.paInt16\n",
    "CHANNELS = 1\n",
    "RATE = 44100\n",
    "\n",
    "\n",
    "p = pyaudio.PyAudio()\n",
    "\n",
    "stream = p.open(\n",
    "    input_device_index=dev_index,\n",
    "    format=FORMAT,\n",
    "    channels=CHANNELS,\n",
    "    rate=RATE,\n",
    "    input=True,\n",
    "    output=True,\n",
    "    frames_per_buffer=CHUNK\n",
    ")\n",
    "\n",
    "\n",
    "data = stream.read(CHUNK)\n",
    "# data\n",
    "\n",
    "\n"
   ]
  },
  {
   "cell_type": "code",
   "execution_count": 24,
   "metadata": {},
   "outputs": [
    {
     "ename": "OSError",
     "evalue": "SavedModel file does not exist at: ../data/saved_models/mel_1_sec_model_(95acc)/mel_1_sec_model/{saved_model.pbtxt|saved_model.pb}",
     "output_type": "error",
     "traceback": [
      "\u001b[0;31m---------------------------------------------------------------------------\u001b[0m",
      "\u001b[0;31mOSError\u001b[0m                                   Traceback (most recent call last)",
      "\u001b[0;32m<ipython-input-24-b90693e325d9>\u001b[0m in \u001b[0;36m<module>\u001b[0;34m\u001b[0m\n\u001b[0;32m----> 1\u001b[0;31m \u001b[0mmel_model\u001b[0m \u001b[0;34m=\u001b[0m \u001b[0mtf\u001b[0m\u001b[0;34m.\u001b[0m\u001b[0mkeras\u001b[0m\u001b[0;34m.\u001b[0m\u001b[0mmodels\u001b[0m\u001b[0;34m.\u001b[0m\u001b[0mload_model\u001b[0m\u001b[0;34m(\u001b[0m\u001b[0;34m'../data/saved_models/mel_1_sec_model_(95acc)/mel_1_sec_model'\u001b[0m\u001b[0;34m)\u001b[0m\u001b[0;34m\u001b[0m\u001b[0;34m\u001b[0m\u001b[0m\n\u001b[0m\u001b[1;32m      2\u001b[0m \u001b[0;34m\u001b[0m\u001b[0m\n\u001b[1;32m      3\u001b[0m \u001b[0;31m# Check its architecture\u001b[0m\u001b[0;34m\u001b[0m\u001b[0;34m\u001b[0m\u001b[0;34m\u001b[0m\u001b[0m\n\u001b[1;32m      4\u001b[0m \u001b[0mmel_model\u001b[0m\u001b[0;34m.\u001b[0m\u001b[0msummary\u001b[0m\u001b[0;34m(\u001b[0m\u001b[0;34m)\u001b[0m\u001b[0;34m\u001b[0m\u001b[0;34m\u001b[0m\u001b[0m\n",
      "\u001b[0;32m/opt/anaconda3/lib/python3.7/site-packages/tensorflow/python/keras/saving/save.py\u001b[0m in \u001b[0;36mload_model\u001b[0;34m(filepath, custom_objects, compile, options)\u001b[0m\n\u001b[1;32m    209\u001b[0m       \u001b[0mfilepath\u001b[0m \u001b[0;34m=\u001b[0m \u001b[0mpath_to_string\u001b[0m\u001b[0;34m(\u001b[0m\u001b[0mfilepath\u001b[0m\u001b[0;34m)\u001b[0m\u001b[0;34m\u001b[0m\u001b[0;34m\u001b[0m\u001b[0m\n\u001b[1;32m    210\u001b[0m       \u001b[0;32mif\u001b[0m \u001b[0misinstance\u001b[0m\u001b[0;34m(\u001b[0m\u001b[0mfilepath\u001b[0m\u001b[0;34m,\u001b[0m \u001b[0msix\u001b[0m\u001b[0;34m.\u001b[0m\u001b[0mstring_types\u001b[0m\u001b[0;34m)\u001b[0m\u001b[0;34m:\u001b[0m\u001b[0;34m\u001b[0m\u001b[0;34m\u001b[0m\u001b[0m\n\u001b[0;32m--> 211\u001b[0;31m         \u001b[0mloader_impl\u001b[0m\u001b[0;34m.\u001b[0m\u001b[0mparse_saved_model\u001b[0m\u001b[0;34m(\u001b[0m\u001b[0mfilepath\u001b[0m\u001b[0;34m)\u001b[0m\u001b[0;34m\u001b[0m\u001b[0;34m\u001b[0m\u001b[0m\n\u001b[0m\u001b[1;32m    212\u001b[0m         \u001b[0;32mreturn\u001b[0m \u001b[0msaved_model_load\u001b[0m\u001b[0;34m.\u001b[0m\u001b[0mload\u001b[0m\u001b[0;34m(\u001b[0m\u001b[0mfilepath\u001b[0m\u001b[0;34m,\u001b[0m \u001b[0mcompile\u001b[0m\u001b[0;34m,\u001b[0m \u001b[0moptions\u001b[0m\u001b[0;34m)\u001b[0m\u001b[0;34m\u001b[0m\u001b[0;34m\u001b[0m\u001b[0m\n\u001b[1;32m    213\u001b[0m \u001b[0;34m\u001b[0m\u001b[0m\n",
      "\u001b[0;32m/opt/anaconda3/lib/python3.7/site-packages/tensorflow/python/saved_model/loader_impl.py\u001b[0m in \u001b[0;36mparse_saved_model\u001b[0;34m(export_dir)\u001b[0m\n\u001b[1;32m    112\u001b[0m                   (export_dir,\n\u001b[1;32m    113\u001b[0m                    \u001b[0mconstants\u001b[0m\u001b[0;34m.\u001b[0m\u001b[0mSAVED_MODEL_FILENAME_PBTXT\u001b[0m\u001b[0;34m,\u001b[0m\u001b[0;34m\u001b[0m\u001b[0;34m\u001b[0m\u001b[0m\n\u001b[0;32m--> 114\u001b[0;31m                    constants.SAVED_MODEL_FILENAME_PB))\n\u001b[0m\u001b[1;32m    115\u001b[0m \u001b[0;34m\u001b[0m\u001b[0m\n\u001b[1;32m    116\u001b[0m \u001b[0;34m\u001b[0m\u001b[0m\n",
      "\u001b[0;31mOSError\u001b[0m: SavedModel file does not exist at: ../data/saved_models/mel_1_sec_model_(95acc)/mel_1_sec_model/{saved_model.pbtxt|saved_model.pb}"
     ]
    }
   ],
   "source": [
    "mel_model = tf.keras.models.load_model('../data/saved_models/mel_1_sec_model_(95acc)/mel_1_sec_model')\n",
    "\n",
    "# Check its architecture\n",
    "mel_model.summary()"
   ]
  },
  {
   "cell_type": "code",
   "execution_count": null,
   "metadata": {},
   "outputs": [],
   "source": [
    "def get_stft_snapshots(index, stft_dict):\n",
    "    \n",
    "    r_id = index['recording_id']\n",
    "\n",
    "    f_path = get_filepath(r_id)\n",
    "    \n",
    "    audio = tfio.audio.AudioIOTensor(f_path)\n",
    "    sr = audio.rate\n",
    "\n",
    "#     dur = get_duration(index)\n",
    "    dur = 1\n",
    "    \n",
    "    for i in range(dur):\n",
    "        \n",
    "        start = i + 1 * sr * floor(index['t_min'])\n",
    "        stop = start + sr\n",
    "\n",
    "        audio_slice = audio[start: stop + 1]\n",
    "        \n",
    "        audio_tensor = tf.squeeze(audio_slice, axis=[-1])\n",
    "        \n",
    "        tensor = tf.cast(audio_tensor, tf.float32)\n",
    "        \n",
    "        spectrogram = tfio.experimental.audio.spectrogram(\n",
    "            tensor,\n",
    "            nfft=512,\n",
    "            window=512,\n",
    "            stride=256\n",
    "        )\n",
    "        \n",
    "        mel_spectrogram = tfio.experimental.audio.melscale(\n",
    "            spectrogram, \n",
    "            rate=sr, \n",
    "            mels=128, \n",
    "            fmin=93.75,     # 20, \n",
    "            fmax=11627.90) # 15000)\n",
    "            \n",
    "        dbscale_mel_spectrogram = tfio.experimental.audio.dbscale(\n",
    "            mel_spectrogram, \n",
    "            top_db=80)\n",
    "        \n",
    "        \n",
    "        stft_dict['dbscale_mel'].append(mel_spectrogram.numpy())\n",
    "        stft_dict['mel'].append(mel_spectrogram.numpy())\n",
    "        stft_dict['stft'].append(spectrogram.numpy())\n",
    "        stft_dict['species_id'].append(index['species_id'])\n",
    "    \n",
    "    \n",
    "    return None"
   ]
  },
  {
   "cell_type": "code",
   "execution_count": null,
   "metadata": {},
   "outputs": [],
   "source": [
    "def prep_audio(audio_input):\n",
    "    \n",
    "    audio = tfio.auido.AudioIOTensor(audio_input)\n",
    "    sr = audio.rate\n",
    "    \n",
    "    audio_tensor = tf.squeeze(audio, axis=[-1])\n",
    "    \n",
    "    tensor = tf.cast(audio_tensor, tf.float32)\n",
    "    \n",
    "    spectrogram = tfio.experimental.audio.spectrogram(\n",
    "        tensor,\n",
    "        nfft=512,\n",
    "        window=512,\n",
    "        stride=256)\n",
    "\n",
    "    mel_spectrogram = tfio.experimental.audio.melscale(\n",
    "        spectrogram, \n",
    "        rate=sr, \n",
    "        mels=128, \n",
    "        fmin=93.75,    \n",
    "        fmax=13687.5)\n",
    "\n",
    "#     dbscale_mel_spectrogram = tfio.experimental.audio.dbscale(\n",
    "#         mel_spectrogram, \n",
    "#         top_db=80)\n",
    "    \n",
    "    \n",
    "    return mel_spectrogram"
   ]
  },
  {
   "cell_type": "markdown",
   "metadata": {},
   "source": [
    "# Resources:\n",
    "\n",
    "PyAudio\n",
    "-[Insatlling PyAudio on Python 3.7](https://stackoverflow.com/questions/54998028/how-do-i-install-pyaudio-on-python-3-7)\n",
    "- [Select Specific Input Device with PyAudio](https://stackoverflow.com/questions/36894315/how-to-select-a-specific-input-device-with-pyaudio)  \n",
    "\n",
    "\n",
    "- [Let's Build an Audio Spectrum Analyzer in Python (pt1)](https://www.youtube.com/watch?v=AShHJdSIxkY)  \n",
    "\n",
    "Librosa\n",
    "- [Librosa with Microphone Input](https://stackoverflow.com/questions/59056786/python-librosa-with-microphone-input)  \n",
    "- [Librosa Documentation](https://librosa.org/doc/latest/core.html#signal-generation)\n",
    "\n",
    "\n",
    "Tensorflow\n",
    "- [Tensorflow Audio Data Prep and Augmentation](https://www.tensorflow.org/io/tutorials/audio#read_an_audio_file)  \n",
    "- [Save and load models](https://www.tensorflow.org/tutorials/keras/save_and_load) \n",
    "\n",
    "- [Paper: Speech Recognition](https://arxiv.org/pdf/1904.08779.pdf)\n",
    "\n",
    "\n",
    "\n"
   ]
  },
  {
   "cell_type": "code",
   "execution_count": 27,
   "metadata": {},
   "outputs": [
    {
     "name": "stdout",
     "output_type": "stream",
     "text": [
      "Input Device id  0  -  Built-in Microphone\n",
      "Input Device id  4  -  USB PnP Audio Device\n",
      "Input Device id  5  -  Iriun Webcam Audio\n",
      "Input Device id  6  -  iShowU Audio Capture\n",
      "Input Device id  7  -  ZoomAudioDevice\n",
      "recording...\n",
      "finished recording\n"
     ]
    }
   ],
   "source": [
    "afun.record_short(1)"
   ]
  },
  {
   "cell_type": "code",
   "execution_count": 28,
   "metadata": {},
   "outputs": [],
   "source": [
    "librosa_test, sr = librosa.load('file.wav',\n",
    "                                sr=22050)"
   ]
  },
  {
   "cell_type": "code",
   "execution_count": 29,
   "metadata": {},
   "outputs": [
    {
     "data": {
      "text/html": [
       "\n",
       "                <audio  controls=\"controls\" >\n",
       "                    <source src=\"data:audio/wav;base64,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\" type=\"audio/wav\" />\n",
       "                    Your browser does not support the audio element.\n",
       "                </audio>\n",
       "              "
      ],
      "text/plain": [
       "<IPython.lib.display.Audio object>"
      ]
     },
     "execution_count": 29,
     "metadata": {},
     "output_type": "execute_result"
    }
   ],
   "source": [
    "ipd.Audio(librosa_test, \n",
    "          rate=sr)"
   ]
  },
  {
   "cell_type": "code",
   "execution_count": null,
   "metadata": {},
   "outputs": [],
   "source": [
    "aprep.mel"
   ]
  }
 ],
 "metadata": {
  "kernelspec": {
   "display_name": "Python 3",
   "language": "python",
   "name": "python3"
  },
  "language_info": {
   "codemirror_mode": {
    "name": "ipython",
    "version": 3
   },
   "file_extension": ".py",
   "mimetype": "text/x-python",
   "name": "python",
   "nbconvert_exporter": "python",
   "pygments_lexer": "ipython3",
   "version": "3.7.6"
  }
 },
 "nbformat": 4,
 "nbformat_minor": 4
}
